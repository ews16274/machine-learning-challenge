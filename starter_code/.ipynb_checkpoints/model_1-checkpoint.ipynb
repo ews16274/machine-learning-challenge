{
 "cells": [
  {
   "cell_type": "code",
   "execution_count": 22,
   "metadata": {},
   "outputs": [],
   "source": [
    "# Update sklearn to prevent version mismatches\n",
    "#!pip install sklearn --upgrade"
   ]
  },
  {
   "cell_type": "code",
   "execution_count": 23,
   "metadata": {},
   "outputs": [],
   "source": [
    "# install joblib. This will be used to save your model. \n",
    "# Restart your kernel after installing \n",
    "#!pip install joblib"
   ]
  },
  {
   "cell_type": "code",
   "execution_count": 24,
   "metadata": {},
   "outputs": [],
   "source": [
    "import pandas as pd"
   ]
  },
  {
   "cell_type": "markdown",
   "metadata": {},
   "source": [
    "# Read the CSV and Perform Basic Data Cleaning"
   ]
  },
  {
   "cell_type": "code",
   "execution_count": 25,
   "metadata": {},
   "outputs": [
    {
     "data": {
      "text/html": [
       "<div>\n",
       "<style scoped>\n",
       "    .dataframe tbody tr th:only-of-type {\n",
       "        vertical-align: middle;\n",
       "    }\n",
       "\n",
       "    .dataframe tbody tr th {\n",
       "        vertical-align: top;\n",
       "    }\n",
       "\n",
       "    .dataframe thead th {\n",
       "        text-align: right;\n",
       "    }\n",
       "</style>\n",
       "<table border=\"1\" class=\"dataframe\">\n",
       "  <thead>\n",
       "    <tr style=\"text-align: right;\">\n",
       "      <th></th>\n",
       "      <th>koi_disposition</th>\n",
       "      <th>koi_fpflag_nt</th>\n",
       "      <th>koi_fpflag_ss</th>\n",
       "      <th>koi_fpflag_co</th>\n",
       "      <th>koi_fpflag_ec</th>\n",
       "      <th>koi_period</th>\n",
       "      <th>koi_period_err1</th>\n",
       "      <th>koi_period_err2</th>\n",
       "      <th>koi_time0bk</th>\n",
       "      <th>koi_time0bk_err1</th>\n",
       "      <th>...</th>\n",
       "      <th>koi_steff_err2</th>\n",
       "      <th>koi_slogg</th>\n",
       "      <th>koi_slogg_err1</th>\n",
       "      <th>koi_slogg_err2</th>\n",
       "      <th>koi_srad</th>\n",
       "      <th>koi_srad_err1</th>\n",
       "      <th>koi_srad_err2</th>\n",
       "      <th>ra</th>\n",
       "      <th>dec</th>\n",
       "      <th>koi_kepmag</th>\n",
       "    </tr>\n",
       "  </thead>\n",
       "  <tbody>\n",
       "    <tr>\n",
       "      <th>0</th>\n",
       "      <td>CONFIRMED</td>\n",
       "      <td>0</td>\n",
       "      <td>0</td>\n",
       "      <td>0</td>\n",
       "      <td>0</td>\n",
       "      <td>54.418383</td>\n",
       "      <td>2.479000e-04</td>\n",
       "      <td>-2.479000e-04</td>\n",
       "      <td>162.513840</td>\n",
       "      <td>0.003520</td>\n",
       "      <td>...</td>\n",
       "      <td>-81</td>\n",
       "      <td>4.467</td>\n",
       "      <td>0.064</td>\n",
       "      <td>-0.096</td>\n",
       "      <td>0.927</td>\n",
       "      <td>0.105</td>\n",
       "      <td>-0.061</td>\n",
       "      <td>291.93423</td>\n",
       "      <td>48.141651</td>\n",
       "      <td>15.347</td>\n",
       "    </tr>\n",
       "    <tr>\n",
       "      <th>1</th>\n",
       "      <td>FALSE POSITIVE</td>\n",
       "      <td>0</td>\n",
       "      <td>1</td>\n",
       "      <td>0</td>\n",
       "      <td>0</td>\n",
       "      <td>19.899140</td>\n",
       "      <td>1.490000e-05</td>\n",
       "      <td>-1.490000e-05</td>\n",
       "      <td>175.850252</td>\n",
       "      <td>0.000581</td>\n",
       "      <td>...</td>\n",
       "      <td>-176</td>\n",
       "      <td>4.544</td>\n",
       "      <td>0.044</td>\n",
       "      <td>-0.176</td>\n",
       "      <td>0.868</td>\n",
       "      <td>0.233</td>\n",
       "      <td>-0.078</td>\n",
       "      <td>297.00482</td>\n",
       "      <td>48.134129</td>\n",
       "      <td>15.436</td>\n",
       "    </tr>\n",
       "    <tr>\n",
       "      <th>2</th>\n",
       "      <td>FALSE POSITIVE</td>\n",
       "      <td>0</td>\n",
       "      <td>1</td>\n",
       "      <td>0</td>\n",
       "      <td>0</td>\n",
       "      <td>1.736952</td>\n",
       "      <td>2.630000e-07</td>\n",
       "      <td>-2.630000e-07</td>\n",
       "      <td>170.307565</td>\n",
       "      <td>0.000115</td>\n",
       "      <td>...</td>\n",
       "      <td>-174</td>\n",
       "      <td>4.564</td>\n",
       "      <td>0.053</td>\n",
       "      <td>-0.168</td>\n",
       "      <td>0.791</td>\n",
       "      <td>0.201</td>\n",
       "      <td>-0.067</td>\n",
       "      <td>285.53461</td>\n",
       "      <td>48.285210</td>\n",
       "      <td>15.597</td>\n",
       "    </tr>\n",
       "    <tr>\n",
       "      <th>3</th>\n",
       "      <td>CONFIRMED</td>\n",
       "      <td>0</td>\n",
       "      <td>0</td>\n",
       "      <td>0</td>\n",
       "      <td>0</td>\n",
       "      <td>2.525592</td>\n",
       "      <td>3.760000e-06</td>\n",
       "      <td>-3.760000e-06</td>\n",
       "      <td>171.595550</td>\n",
       "      <td>0.001130</td>\n",
       "      <td>...</td>\n",
       "      <td>-211</td>\n",
       "      <td>4.438</td>\n",
       "      <td>0.070</td>\n",
       "      <td>-0.210</td>\n",
       "      <td>1.046</td>\n",
       "      <td>0.334</td>\n",
       "      <td>-0.133</td>\n",
       "      <td>288.75488</td>\n",
       "      <td>48.226200</td>\n",
       "      <td>15.509</td>\n",
       "    </tr>\n",
       "    <tr>\n",
       "      <th>4</th>\n",
       "      <td>CONFIRMED</td>\n",
       "      <td>0</td>\n",
       "      <td>0</td>\n",
       "      <td>0</td>\n",
       "      <td>0</td>\n",
       "      <td>4.134435</td>\n",
       "      <td>1.050000e-05</td>\n",
       "      <td>-1.050000e-05</td>\n",
       "      <td>172.979370</td>\n",
       "      <td>0.001900</td>\n",
       "      <td>...</td>\n",
       "      <td>-232</td>\n",
       "      <td>4.486</td>\n",
       "      <td>0.054</td>\n",
       "      <td>-0.229</td>\n",
       "      <td>0.972</td>\n",
       "      <td>0.315</td>\n",
       "      <td>-0.105</td>\n",
       "      <td>296.28613</td>\n",
       "      <td>48.224670</td>\n",
       "      <td>15.714</td>\n",
       "    </tr>\n",
       "  </tbody>\n",
       "</table>\n",
       "<p>5 rows × 41 columns</p>\n",
       "</div>"
      ],
      "text/plain": [
       "  koi_disposition  koi_fpflag_nt  koi_fpflag_ss  koi_fpflag_co  koi_fpflag_ec  \\\n",
       "0       CONFIRMED              0              0              0              0   \n",
       "1  FALSE POSITIVE              0              1              0              0   \n",
       "2  FALSE POSITIVE              0              1              0              0   \n",
       "3       CONFIRMED              0              0              0              0   \n",
       "4       CONFIRMED              0              0              0              0   \n",
       "\n",
       "   koi_period  koi_period_err1  koi_period_err2  koi_time0bk  \\\n",
       "0   54.418383     2.479000e-04    -2.479000e-04   162.513840   \n",
       "1   19.899140     1.490000e-05    -1.490000e-05   175.850252   \n",
       "2    1.736952     2.630000e-07    -2.630000e-07   170.307565   \n",
       "3    2.525592     3.760000e-06    -3.760000e-06   171.595550   \n",
       "4    4.134435     1.050000e-05    -1.050000e-05   172.979370   \n",
       "\n",
       "   koi_time0bk_err1  ...  koi_steff_err2  koi_slogg  koi_slogg_err1  \\\n",
       "0          0.003520  ...             -81      4.467           0.064   \n",
       "1          0.000581  ...            -176      4.544           0.044   \n",
       "2          0.000115  ...            -174      4.564           0.053   \n",
       "3          0.001130  ...            -211      4.438           0.070   \n",
       "4          0.001900  ...            -232      4.486           0.054   \n",
       "\n",
       "   koi_slogg_err2  koi_srad  koi_srad_err1  koi_srad_err2         ra  \\\n",
       "0          -0.096     0.927          0.105         -0.061  291.93423   \n",
       "1          -0.176     0.868          0.233         -0.078  297.00482   \n",
       "2          -0.168     0.791          0.201         -0.067  285.53461   \n",
       "3          -0.210     1.046          0.334         -0.133  288.75488   \n",
       "4          -0.229     0.972          0.315         -0.105  296.28613   \n",
       "\n",
       "         dec  koi_kepmag  \n",
       "0  48.141651      15.347  \n",
       "1  48.134129      15.436  \n",
       "2  48.285210      15.597  \n",
       "3  48.226200      15.509  \n",
       "4  48.224670      15.714  \n",
       "\n",
       "[5 rows x 41 columns]"
      ]
     },
     "execution_count": 25,
     "metadata": {},
     "output_type": "execute_result"
    }
   ],
   "source": [
    "df = pd.read_csv(\"exoplanet_data.csv\")\n",
    "# Drop the null columns where all values are null\n",
    "df = df.dropna(axis='columns', how='all')\n",
    "# Drop the null rows\n",
    "df = df.dropna()\n",
    "df.head()"
   ]
  },
  {
   "cell_type": "markdown",
   "metadata": {},
   "source": [
    "# Select your features (columns)"
   ]
  },
  {
   "cell_type": "code",
   "execution_count": 26,
   "metadata": {},
   "outputs": [],
   "source": [
    "# Set features. This will also be used as your x values.\n",
    "#selected_features = df[['names', 'of', 'selected', 'features', 'here']]"
   ]
  },
  {
   "cell_type": "markdown",
   "metadata": {},
   "source": [
    "# Create a Train Test Split\n",
    "\n",
    "Use `koi_disposition` for the y values"
   ]
  },
  {
   "cell_type": "code",
   "execution_count": 29,
   "metadata": {},
   "outputs": [
    {
     "name": "stdout",
     "output_type": "stream",
     "text": [
      "(6991, 40) (6991,)\n"
     ]
    }
   ],
   "source": [
    "X =df.drop('koi_disposition', axis =1)\n",
    "y = df['koi_disposition']\n",
    "print(X.shape, y.shape)"
   ]
  },
  {
   "cell_type": "code",
   "execution_count": 30,
   "metadata": {},
   "outputs": [],
   "source": [
    "from sklearn.model_selection import train_test_split\n",
    "\n",
    "X_train, X_test, y_train, y_test = train_test_split(X, y, random_state=42, stratify=y)"
   ]
  },
  {
   "cell_type": "markdown",
   "metadata": {},
   "source": [
    "# Pre-processing\n",
    "\n",
    "Scale the data using the MinMaxScaler and perform some feature selection"
   ]
  },
  {
   "cell_type": "code",
   "execution_count": 31,
   "metadata": {},
   "outputs": [],
   "source": [
    "# Scale your data\n",
    "from numpy import asarray\n",
    "from sklearn.preprocessing import MinMaxScaler\n",
    "\n",
    "# define min max scaler\n",
    "X_scaler = MinMaxScaler().fit(X_train)\n",
    "X_train_scaled = X_scaler.transform(X_train)\n",
    "X_test_scaled = X_scaler.transform(X_test)"
   ]
  },
  {
   "cell_type": "code",
   "execution_count": 32,
   "metadata": {},
   "outputs": [
    {
     "data": {
      "text/plain": [
       "array([[1.        , 0.        , 0.        , ..., 0.42898713, 0.49393616,\n",
       "        0.50318208],\n",
       "       [0.        , 0.        , 0.        , ..., 0.62560683, 0.28310341,\n",
       "        0.67741136],\n",
       "       [0.        , 1.        , 0.        , ..., 0.13460577, 0.44064722,\n",
       "        0.59889247],\n",
       "       ...,\n",
       "       [0.        , 1.        , 0.        , ..., 0.73068093, 0.51842507,\n",
       "        0.4956608 ],\n",
       "       [0.        , 0.        , 0.        , ..., 0.71647611, 0.36021512,\n",
       "        0.22993636],\n",
       "       [0.        , 0.        , 0.        , ..., 0.58526391, 0.29853405,\n",
       "        0.65798826]])"
      ]
     },
     "execution_count": 32,
     "metadata": {},
     "output_type": "execute_result"
    }
   ],
   "source": [
    " X_train_scaled"
   ]
  },
  {
   "cell_type": "markdown",
   "metadata": {},
   "source": [
    "# Train the Model\n",
    "\n"
   ]
  },
  {
   "cell_type": "code",
   "execution_count": 33,
   "metadata": {},
   "outputs": [
    {
     "data": {
      "text/plain": [
       "SVC(kernel='linear')"
      ]
     },
     "execution_count": 33,
     "metadata": {},
     "output_type": "execute_result"
    }
   ],
   "source": [
    "# Support vector machine linear classifier\n",
    "from sklearn.svm import SVC \n",
    "from sklearn.neighbors import KNeighborsClassifier\n",
    "\n",
    "model_svc = SVC(kernel='linear')\n",
    "model_svc.fit(X_train_scaled, y_train)"
   ]
  },
  {
   "cell_type": "code",
   "execution_count": 34,
   "metadata": {},
   "outputs": [
    {
     "name": "stdout",
     "output_type": "stream",
     "text": [
      "Training Data Score: 0.8472248712569139\n",
      "Testing Data Score: 0.852974828375286\n"
     ]
    }
   ],
   "source": [
    "# Model Accuracy\n",
    "print(f\"Training Data Score: {model_svc.score(X_train_scaled, y_train)}\")\n",
    "print(f\"Testing Data Score: {model_svc.score(X_test_scaled, y_test)}\")"
   ]
  },
  {
   "cell_type": "code",
   "execution_count": 35,
   "metadata": {},
   "outputs": [
    {
     "name": "stdout",
     "output_type": "stream",
     "text": [
      "                precision    recall  f1-score   support\n",
      "\n",
      "     CANDIDATE       0.76      0.61      0.68       422\n",
      "     CONFIRMED       0.69      0.79      0.74       450\n",
      "FALSE POSITIVE       0.99      1.00      0.99       876\n",
      "\n",
      "      accuracy                           0.85      1748\n",
      "     macro avg       0.81      0.80      0.80      1748\n",
      "  weighted avg       0.85      0.85      0.85      1748\n",
      "\n"
     ]
    }
   ],
   "source": [
    "# Calculate classification report\n",
    "from sklearn.metrics import classification_report\n",
    "predictions = model_svc.predict(X_test_scaled)\n",
    "print(classification_report(y_test,predictions))"
   ]
  },
  {
   "cell_type": "markdown",
   "metadata": {},
   "source": [
    "# Hyperparameter Tuning\n",
    "\n",
    "Use `GridSearchCV` to tune the model's parameters"
   ]
  },
  {
   "cell_type": "code",
   "execution_count": 37,
   "metadata": {},
   "outputs": [],
   "source": [
    "# Create the GridSearchCV model\n",
    "from sklearn.model_selection import GridSearchCV\n",
    "param_grid = {'C': [1, 5, 10, 50],\n",
    "              'gamma': [0.0001, 0.0005, 0.001, 0.005]}\n",
    "grid_search = GridSearchCV(model_svc, param_grid, verbose=3)"
   ]
  },
  {
   "cell_type": "code",
   "execution_count": 38,
   "metadata": {},
   "outputs": [
    {
     "name": "stdout",
     "output_type": "stream",
     "text": [
      "Fitting 5 folds for each of 16 candidates, totalling 80 fits\n",
      "[CV 1/5] END .................C=1, gamma=0.0001;, score=0.848 total time=   0.3s\n",
      "[CV 2/5] END .................C=1, gamma=0.0001;, score=0.840 total time=   0.2s\n",
      "[CV 3/5] END .................C=1, gamma=0.0001;, score=0.827 total time=   0.2s\n",
      "[CV 4/5] END .................C=1, gamma=0.0001;, score=0.849 total time=   0.3s\n",
      "[CV 5/5] END .................C=1, gamma=0.0001;, score=0.844 total time=   0.2s\n",
      "[CV 1/5] END .................C=1, gamma=0.0005;, score=0.848 total time=   0.2s\n",
      "[CV 2/5] END .................C=1, gamma=0.0005;, score=0.840 total time=   0.2s\n",
      "[CV 3/5] END .................C=1, gamma=0.0005;, score=0.827 total time=   0.2s\n",
      "[CV 4/5] END .................C=1, gamma=0.0005;, score=0.849 total time=   0.2s\n",
      "[CV 5/5] END .................C=1, gamma=0.0005;, score=0.844 total time=   0.2s\n",
      "[CV 1/5] END ..................C=1, gamma=0.001;, score=0.848 total time=   0.3s\n",
      "[CV 2/5] END ..................C=1, gamma=0.001;, score=0.840 total time=   0.3s\n",
      "[CV 3/5] END ..................C=1, gamma=0.001;, score=0.827 total time=   0.3s\n",
      "[CV 4/5] END ..................C=1, gamma=0.001;, score=0.849 total time=   0.3s\n",
      "[CV 5/5] END ..................C=1, gamma=0.001;, score=0.844 total time=   0.3s\n",
      "[CV 1/5] END ..................C=1, gamma=0.005;, score=0.848 total time=   0.4s\n",
      "[CV 2/5] END ..................C=1, gamma=0.005;, score=0.840 total time=   0.4s\n",
      "[CV 3/5] END ..................C=1, gamma=0.005;, score=0.827 total time=   0.4s\n",
      "[CV 4/5] END ..................C=1, gamma=0.005;, score=0.849 total time=   0.4s\n",
      "[CV 5/5] END ..................C=1, gamma=0.005;, score=0.844 total time=   0.4s\n",
      "[CV 1/5] END .................C=5, gamma=0.0001;, score=0.866 total time=   0.4s\n",
      "[CV 2/5] END .................C=5, gamma=0.0001;, score=0.867 total time=   0.4s\n",
      "[CV 3/5] END .................C=5, gamma=0.0001;, score=0.858 total time=   0.4s\n",
      "[CV 4/5] END .................C=5, gamma=0.0001;, score=0.866 total time=   0.4s\n",
      "[CV 5/5] END .................C=5, gamma=0.0001;, score=0.865 total time=   0.3s\n",
      "[CV 1/5] END .................C=5, gamma=0.0005;, score=0.866 total time=   0.4s\n",
      "[CV 2/5] END .................C=5, gamma=0.0005;, score=0.867 total time=   0.4s\n",
      "[CV 3/5] END .................C=5, gamma=0.0005;, score=0.858 total time=   0.2s\n",
      "[CV 4/5] END .................C=5, gamma=0.0005;, score=0.866 total time=   0.3s\n",
      "[CV 5/5] END .................C=5, gamma=0.0005;, score=0.865 total time=   0.5s\n",
      "[CV 1/5] END ..................C=5, gamma=0.001;, score=0.866 total time=   0.3s\n",
      "[CV 2/5] END ..................C=5, gamma=0.001;, score=0.867 total time=   0.3s\n",
      "[CV 3/5] END ..................C=5, gamma=0.001;, score=0.858 total time=   0.3s\n",
      "[CV 4/5] END ..................C=5, gamma=0.001;, score=0.866 total time=   0.2s\n",
      "[CV 5/5] END ..................C=5, gamma=0.001;, score=0.865 total time=   0.4s\n",
      "[CV 1/5] END ..................C=5, gamma=0.005;, score=0.866 total time=   0.3s\n",
      "[CV 2/5] END ..................C=5, gamma=0.005;, score=0.867 total time=   0.3s\n",
      "[CV 3/5] END ..................C=5, gamma=0.005;, score=0.858 total time=   0.4s\n",
      "[CV 4/5] END ..................C=5, gamma=0.005;, score=0.866 total time=   0.2s\n",
      "[CV 5/5] END ..................C=5, gamma=0.005;, score=0.865 total time=   0.3s\n",
      "[CV 1/5] END ................C=10, gamma=0.0001;, score=0.873 total time=   0.3s\n",
      "[CV 2/5] END ................C=10, gamma=0.0001;, score=0.880 total time=   0.3s\n",
      "[CV 3/5] END ................C=10, gamma=0.0001;, score=0.864 total time=   0.3s\n",
      "[CV 4/5] END ................C=10, gamma=0.0001;, score=0.875 total time=   0.3s\n",
      "[CV 5/5] END ................C=10, gamma=0.0001;, score=0.876 total time=   0.3s\n",
      "[CV 1/5] END ................C=10, gamma=0.0005;, score=0.873 total time=   0.3s\n",
      "[CV 2/5] END ................C=10, gamma=0.0005;, score=0.880 total time=   0.2s\n",
      "[CV 3/5] END ................C=10, gamma=0.0005;, score=0.864 total time=   0.3s\n",
      "[CV 4/5] END ................C=10, gamma=0.0005;, score=0.875 total time=   0.3s\n",
      "[CV 5/5] END ................C=10, gamma=0.0005;, score=0.876 total time=   0.3s\n",
      "[CV 1/5] END .................C=10, gamma=0.001;, score=0.873 total time=   0.4s\n",
      "[CV 2/5] END .................C=10, gamma=0.001;, score=0.880 total time=   0.4s\n",
      "[CV 3/5] END .................C=10, gamma=0.001;, score=0.864 total time=   0.3s\n",
      "[CV 4/5] END .................C=10, gamma=0.001;, score=0.875 total time=   0.3s\n",
      "[CV 5/5] END .................C=10, gamma=0.001;, score=0.876 total time=   0.3s\n",
      "[CV 1/5] END .................C=10, gamma=0.005;, score=0.873 total time=   0.3s\n",
      "[CV 2/5] END .................C=10, gamma=0.005;, score=0.880 total time=   0.3s\n",
      "[CV 3/5] END .................C=10, gamma=0.005;, score=0.864 total time=   0.3s\n",
      "[CV 4/5] END .................C=10, gamma=0.005;, score=0.875 total time=   0.3s\n",
      "[CV 5/5] END .................C=10, gamma=0.005;, score=0.876 total time=   0.3s\n",
      "[CV 1/5] END ................C=50, gamma=0.0001;, score=0.885 total time=   0.4s\n",
      "[CV 2/5] END ................C=50, gamma=0.0001;, score=0.888 total time=   0.3s\n",
      "[CV 3/5] END ................C=50, gamma=0.0001;, score=0.877 total time=   0.3s\n",
      "[CV 4/5] END ................C=50, gamma=0.0001;, score=0.888 total time=   0.3s\n",
      "[CV 5/5] END ................C=50, gamma=0.0001;, score=0.883 total time=   0.3s\n",
      "[CV 1/5] END ................C=50, gamma=0.0005;, score=0.885 total time=   0.4s\n",
      "[CV 2/5] END ................C=50, gamma=0.0005;, score=0.888 total time=   0.3s\n",
      "[CV 3/5] END ................C=50, gamma=0.0005;, score=0.877 total time=   0.4s\n",
      "[CV 4/5] END ................C=50, gamma=0.0005;, score=0.888 total time=   0.3s\n",
      "[CV 5/5] END ................C=50, gamma=0.0005;, score=0.883 total time=   0.3s\n",
      "[CV 1/5] END .................C=50, gamma=0.001;, score=0.885 total time=   0.4s\n",
      "[CV 2/5] END .................C=50, gamma=0.001;, score=0.888 total time=   0.3s\n",
      "[CV 3/5] END .................C=50, gamma=0.001;, score=0.877 total time=   0.3s\n",
      "[CV 4/5] END .................C=50, gamma=0.001;, score=0.888 total time=   0.3s\n",
      "[CV 5/5] END .................C=50, gamma=0.001;, score=0.883 total time=   0.3s\n",
      "[CV 1/5] END .................C=50, gamma=0.005;, score=0.885 total time=   0.4s\n",
      "[CV 2/5] END .................C=50, gamma=0.005;, score=0.888 total time=   0.3s\n",
      "[CV 3/5] END .................C=50, gamma=0.005;, score=0.877 total time=   0.3s\n",
      "[CV 4/5] END .................C=50, gamma=0.005;, score=0.888 total time=   0.3s\n",
      "[CV 5/5] END .................C=50, gamma=0.005;, score=0.883 total time=   0.3s\n"
     ]
    },
    {
     "data": {
      "text/plain": [
       "GridSearchCV(estimator=SVC(kernel='linear'),\n",
       "             param_grid={'C': [1, 5, 10, 50],\n",
       "                         'gamma': [0.0001, 0.0005, 0.001, 0.005]},\n",
       "             verbose=3)"
      ]
     },
     "execution_count": 38,
     "metadata": {},
     "output_type": "execute_result"
    }
   ],
   "source": [
    "# Train the model with GridSearch\n",
    "# Fit the grid search to the data\n",
    "grid_search.fit(X_train_scaled, y_train)"
   ]
  },
  {
   "cell_type": "code",
   "execution_count": 39,
   "metadata": {},
   "outputs": [
    {
     "name": "stdout",
     "output_type": "stream",
     "text": [
      "{'C': 50, 'gamma': 0.0001}\n",
      "0.8840364141785344\n"
     ]
    }
   ],
   "source": [
    "# List the best parameters for this dataset\n",
    "print(grid_search.best_params_)\n",
    "print(grid_search.best_score_)"
   ]
  },
  {
   "cell_type": "code",
   "execution_count": 40,
   "metadata": {},
   "outputs": [
    {
     "data": {
      "text/plain": [
       "0.8863246233072668"
      ]
     },
     "execution_count": 40,
     "metadata": {},
     "output_type": "execute_result"
    }
   ],
   "source": [
    "grid_search.score(X_train_scaled, y_train)"
   ]
  },
  {
   "cell_type": "code",
   "execution_count": 41,
   "metadata": {},
   "outputs": [
    {
     "data": {
      "text/plain": [
       "0.8913043478260869"
      ]
     },
     "execution_count": 41,
     "metadata": {},
     "output_type": "execute_result"
    }
   ],
   "source": [
    "grid_search.score(X_test_scaled, y_test)"
   ]
  },
  {
   "cell_type": "code",
   "execution_count": 42,
   "metadata": {},
   "outputs": [
    {
     "name": "stdout",
     "output_type": "stream",
     "text": [
      "                precision    recall  f1-score   support\n",
      "\n",
      "     CANDIDATE       0.84      0.71      0.77       422\n",
      "     CONFIRMED       0.76      0.86      0.80       450\n",
      "FALSE POSITIVE       0.99      1.00      0.99       876\n",
      "\n",
      "      accuracy                           0.89      1748\n",
      "     macro avg       0.86      0.85      0.86      1748\n",
      "  weighted avg       0.89      0.89      0.89      1748\n",
      "\n"
     ]
    }
   ],
   "source": [
    "# Make predictions with the hypertuned model\n",
    "predictions = grid_search.predict(X_test_scaled)\n",
    "\n",
    "# Calculate classification report\n",
    "from sklearn.metrics import classification_report\n",
    "print(classification_report(y_test, predictions))"
   ]
  },
  {
   "cell_type": "markdown",
   "metadata": {},
   "source": [
    "# Save the Model"
   ]
  },
  {
   "cell_type": "code",
   "execution_count": 43,
   "metadata": {},
   "outputs": [
    {
     "data": {
      "text/plain": [
       "['Eric.sav']"
      ]
     },
     "execution_count": 43,
     "metadata": {},
     "output_type": "execute_result"
    }
   ],
   "source": [
    "# save your model by updating \"your_name\" with your name\n",
    "# and \"your_model\" with your model variable\n",
    "# be sure to turn this in to BCS\n",
    "# if joblib fails to import, try running the command to install in terminal/git-bash\n",
    "import joblib\n",
    "filename = 'Eric.sav'\n",
    "joblib.dump(model_svc, filename)"
   ]
  },
  {
   "cell_type": "code",
   "execution_count": null,
   "metadata": {},
   "outputs": [],
   "source": []
  }
 ],
 "metadata": {
  "interpreter": {
   "hash": "881315a4e99619ff149f3b679baa33b65e65fbdd6dc22719233e7e2591b4ff23"
  },
  "kernel_info": {
   "name": "dev"
  },
  "kernelspec": {
   "display_name": "Python [conda env:PythonAdv] *",
   "language": "python",
   "name": "conda-env-PythonAdv-py"
  },
  "language_info": {
   "codemirror_mode": {
    "name": "ipython",
    "version": 3
   },
   "file_extension": ".py",
   "mimetype": "text/x-python",
   "name": "python",
   "nbconvert_exporter": "python",
   "pygments_lexer": "ipython3",
   "version": "3.6.13"
  },
  "nteract": {
   "version": "0.12.3"
  }
 },
 "nbformat": 4,
 "nbformat_minor": 2
}
